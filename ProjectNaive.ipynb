{
 "cells": [
  {
   "cell_type": "code",
   "execution_count": 2,
   "metadata": {},
   "outputs": [],
   "source": [
    "import math\n",
    "import pandas as pd\n",
    "import numpy as np\n",
    "\n",
    "# load data set\n",
    "df_train = pd.read_excel(\"parktraining.xlsx\",header=None)\n",
    "df_test = pd.read_excel(\"parktesting.xlsx\",header=None)\n",
    "#df_iris = pd.read_csv(\"iris.csv\",header=None)\n"
   ]
  },
  {
   "cell_type": "code",
   "execution_count": 3,
   "metadata": {
    "pycharm": {
     "name": "#%%\n"
    }
   },
   "outputs": [],
   "source": [
    "# for getting stats like mean , standard deviation and probability with respect to class\n",
    "def stats(data):\n",
    "    mean_by_class = data.groupby([status_col]).mean()\n",
    "    std_by_class = data.groupby([status_col]).std()\n",
    "\n",
    "    # value_counts return the values by category\n",
    "    # here we calculate the probability of each status\n",
    "    prob_by_class = data[status_col].value_counts() / len(data.index)\n",
    "    return mean_by_class, std_by_class, prob_by_class\n",
    "\n",
    "    # this function is useful for calculating likehood\n",
    "    # likelihood is P(data|class)\n",
    "def gaussian(x, mean, std):\n",
    "    exponent = math.exp(-((x - mean) ** 2 / (2 * std ** 2)))\n",
    "    return (1 / (math.sqrt(2 * math.pi) * std)) * exponent\n",
    "\n",
    "    # here we finally calculating probability of each class and\n",
    "    # comparing which one is greater then returning that class\n",
    "    # its my task1\n",
    "def calculate_probability(row,mean_by_class , std_by_class , prob_by_class):\n",
    "    probs = dict()\n",
    "\n",
    "    # first we get classes and iterate through it here we have only 2 classes [0,1]\n",
    "    for classs in mean_by_class.index.values:\n",
    "        # implementing formula for gaussian naive bayes theorem\n",
    "        probability = prob_by_class[classs]\n",
    "        for col_numb in np.arange(len(mean_by_class.loc[classs])):\n",
    "            probability *= gaussian(row[col_numb],mean_by_class.loc[classs][col_numb],std_by_class.loc[classs][col_numb])\n",
    "        probs[classs] = probability\n",
    "    if probs.get(0) > probs.get(1):\n",
    "        return 0\n",
    "    else:\n",
    "        return 1"
   ]
  },
  {
   "cell_type": "code",
   "execution_count": 4,
   "outputs": [
    {
     "data": {
      "text/plain": "            0           1           2         3         4         5   \\\n22                                                                     \n0   179.319333  225.458524  138.184595  0.004109  0.000025  0.002032   \n1   146.924728  192.116719  109.492939  0.007314  0.000052  0.004011   \n\n          6         7         8         9   ...        12        13        14  \\\n22                                          ...                                 \n0   0.002167  0.006098  0.018588  0.172571  ...  0.014035  0.030278  0.012910   \n1   0.003988  0.012032  0.034523  0.331535  ...  0.027894  0.055223  0.033417   \n\n           15        16        17        18        19        20        21  \n22                                                                         \n0   23.776833  0.449262  0.689177 -6.640653  0.158470  2.205746  0.130860  \n1   20.539772  0.519459  0.722297 -5.357122  0.242821  2.460034  0.229114  \n\n[2 rows x 22 columns]",
      "text/html": "<div>\n<style scoped>\n    .dataframe tbody tr th:only-of-type {\n        vertical-align: middle;\n    }\n\n    .dataframe tbody tr th {\n        vertical-align: top;\n    }\n\n    .dataframe thead th {\n        text-align: right;\n    }\n</style>\n<table border=\"1\" class=\"dataframe\">\n  <thead>\n    <tr style=\"text-align: right;\">\n      <th></th>\n      <th>0</th>\n      <th>1</th>\n      <th>2</th>\n      <th>3</th>\n      <th>4</th>\n      <th>5</th>\n      <th>6</th>\n      <th>7</th>\n      <th>8</th>\n      <th>9</th>\n      <th>...</th>\n      <th>12</th>\n      <th>13</th>\n      <th>14</th>\n      <th>15</th>\n      <th>16</th>\n      <th>17</th>\n      <th>18</th>\n      <th>19</th>\n      <th>20</th>\n      <th>21</th>\n    </tr>\n    <tr>\n      <th>22</th>\n      <th></th>\n      <th></th>\n      <th></th>\n      <th></th>\n      <th></th>\n      <th></th>\n      <th></th>\n      <th></th>\n      <th></th>\n      <th></th>\n      <th></th>\n      <th></th>\n      <th></th>\n      <th></th>\n      <th></th>\n      <th></th>\n      <th></th>\n      <th></th>\n      <th></th>\n      <th></th>\n      <th></th>\n    </tr>\n  </thead>\n  <tbody>\n    <tr>\n      <td>0</td>\n      <td>179.319333</td>\n      <td>225.458524</td>\n      <td>138.184595</td>\n      <td>0.004109</td>\n      <td>0.000025</td>\n      <td>0.002032</td>\n      <td>0.002167</td>\n      <td>0.006098</td>\n      <td>0.018588</td>\n      <td>0.172571</td>\n      <td>...</td>\n      <td>0.014035</td>\n      <td>0.030278</td>\n      <td>0.012910</td>\n      <td>23.776833</td>\n      <td>0.449262</td>\n      <td>0.689177</td>\n      <td>-6.640653</td>\n      <td>0.158470</td>\n      <td>2.205746</td>\n      <td>0.130860</td>\n    </tr>\n    <tr>\n      <td>1</td>\n      <td>146.924728</td>\n      <td>192.116719</td>\n      <td>109.492939</td>\n      <td>0.007314</td>\n      <td>0.000052</td>\n      <td>0.004011</td>\n      <td>0.003988</td>\n      <td>0.012032</td>\n      <td>0.034523</td>\n      <td>0.331535</td>\n      <td>...</td>\n      <td>0.027894</td>\n      <td>0.055223</td>\n      <td>0.033417</td>\n      <td>20.539772</td>\n      <td>0.519459</td>\n      <td>0.722297</td>\n      <td>-5.357122</td>\n      <td>0.242821</td>\n      <td>2.460034</td>\n      <td>0.229114</td>\n    </tr>\n  </tbody>\n</table>\n<p>2 rows × 22 columns</p>\n</div>"
     },
     "execution_count": 4,
     "metadata": {},
     "output_type": "execute_result"
    }
   ],
   "source": [
    "# column number 22 is status column\n",
    "# i did not wanted to give headers to data frame so i am just initializing it by looking at data\n",
    "status_col = 22\n",
    "\n",
    "# current dataset (its just for making sure that you putted same data source in all fields like (accuracy, model etc) )\n",
    "current_df = df_train\n",
    "\n",
    "mean_by_class , std_by_class ,prob_by_class = stats(current_df)\n",
    "mean_by_class"
   ],
   "metadata": {
    "collapsed": false,
    "pycharm": {
     "name": "#%%\n"
    }
   }
  },
  {
   "cell_type": "code",
   "execution_count": 5,
   "outputs": [],
   "source": [
    "predictions = list()\n",
    "# here we are classifying each row\n",
    "for index,row in current_df.iterrows():\n",
    "    prediction =calculate_probability(row,mean_by_class,std_by_class,prob_by_class)\n",
    "    predictions.append(prediction)"
   ],
   "metadata": {
    "collapsed": false,
    "pycharm": {
     "name": "#%%\n"
    }
   }
  },
  {
   "cell_type": "code",
   "execution_count": 6,
   "outputs": [
    {
     "name": "stdout",
     "output_type": "stream",
     "text": [
      "Output labels are : \n",
      "[0, 0, 0, 0, 0, 0, 0, 0, 0, 0, 0, 0, 0, 0, 0, 1, 1, 1, 1, 1, 1, 0, 0, 0, 0, 0, 0, 1, 1, 1, 1, 1, 1, 0, 0, 0, 0, 1, 0, 1, 1, 1, 1, 1, 0, 1, 1, 1, 1, 1, 1, 1, 1, 1, 1, 1, 1, 1, 1, 1, 1, 1, 1, 1, 0, 0, 0, 0, 0, 0, 1, 0, 0, 1, 0, 0, 1, 0, 1, 0, 0, 0, 0, 1, 1, 0, 1, 1, 1, 0, 0, 0, 0, 0, 0, 1, 1, 1, 1, 1, 1, 1, 1, 1, 0, 0, 0, 1, 1, 1, 1, 1, 1, 1, 1, 1, 1, 1, 1, 1, 1, 1, 1, 1, 0, 1, 0, 0, 0, 1, 0, 0, 0, 0, 0, 0, 0, 0, 0, 0, 0, 0, 0, 0, 0, 0, 0, 0, 0, 0, 0, 1, 0, 1, 0, 0]\n",
      "Accuracy is 71.7948717948718%\n"
     ]
    }
   ],
   "source": [
    "# this method compare actual values with predicted for accuracy check of our model\n",
    "def compare (predicted , actual):\n",
    "    count = 0\n",
    "    for i in np.arange(len(predicted)):\n",
    "        if predicted[i] == actual[i]:\n",
    "            count+=1\n",
    "    return count / len(predicted) * 100\n",
    "\n",
    "accuracy =compare(predictions, current_df[status_col].tolist())\n",
    "print(\"Output labels are : \")\n",
    "print(predictions)\n",
    "print (\"Accuracy is \"+str(accuracy)+\"%\")"
   ],
   "metadata": {
    "collapsed": false,
    "pycharm": {
     "name": "#%%\n"
    }
   }
  },
  {
   "cell_type": "code",
   "execution_count": 12,
   "outputs": [
    {
     "data": {
      "text/plain": "   col1  col2\n0   0.0  0.25\n1   0.2  0.50\n2   0.6  0.75\n3   0.8  1.00\n4   1.0  0.00",
      "text/html": "<div>\n<style scoped>\n    .dataframe tbody tr th:only-of-type {\n        vertical-align: middle;\n    }\n\n    .dataframe tbody tr th {\n        vertical-align: top;\n    }\n\n    .dataframe thead th {\n        text-align: right;\n    }\n</style>\n<table border=\"1\" class=\"dataframe\">\n  <thead>\n    <tr style=\"text-align: right;\">\n      <th></th>\n      <th>col1</th>\n      <th>col2</th>\n    </tr>\n  </thead>\n  <tbody>\n    <tr>\n      <td>0</td>\n      <td>0.0</td>\n      <td>0.25</td>\n    </tr>\n    <tr>\n      <td>1</td>\n      <td>0.2</td>\n      <td>0.50</td>\n    </tr>\n    <tr>\n      <td>2</td>\n      <td>0.6</td>\n      <td>0.75</td>\n    </tr>\n    <tr>\n      <td>3</td>\n      <td>0.8</td>\n      <td>1.00</td>\n    </tr>\n    <tr>\n      <td>4</td>\n      <td>1.0</td>\n      <td>0.00</td>\n    </tr>\n  </tbody>\n</table>\n</div>"
     },
     "execution_count": 12,
     "metadata": {},
     "output_type": "execute_result"
    }
   ],
   "source": [
    "d = {'col1': [1, 2,4,5,6], 'col2': [3, 4 , 5,6,2]}\n",
    "df = pd.DataFrame(d)\n",
    "(df - df.min()) / (df.max() - df.min())\n"
   ],
   "metadata": {
    "collapsed": false,
    "pycharm": {
     "name": "#%%\n"
    }
   }
  }
 ],
 "metadata": {
  "kernelspec": {
   "name": "pycharm-a1440e1a",
   "language": "python",
   "display_name": "PyCharm (MachineLearningLabs)"
  },
  "language_info": {
   "codemirror_mode": {
    "name": "ipython",
    "version": 3
   },
   "file_extension": ".py",
   "mimetype": "text/x-python",
   "name": "python",
   "nbconvert_exporter": "python",
   "pygments_lexer": "ipython3",
   "version": "3.6.9"
  }
 },
 "nbformat": 4,
 "nbformat_minor": 1
}